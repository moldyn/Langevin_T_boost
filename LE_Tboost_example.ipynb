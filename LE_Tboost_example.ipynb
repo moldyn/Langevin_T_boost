{
 "cells": [
  {
   "cell_type": "markdown",
   "metadata": {},
   "source": [
    "* Import external libraries:"
   ]
  },
  {
   "cell_type": "code",
   "execution_count": 1,
   "metadata": {
    "collapsed": false
   },
   "outputs": [],
   "source": [
    "%matplotlib inline\n",
    "import math\n",
    "import matplotlib\n",
    "import matplotlib.pyplot as plt\n",
    "from matplotlib import animation, rc\n",
    "from IPython.display import HTML\n",
    "\n",
    "import copy\n",
    "import numpy as np\n",
    "import scipy as scy\n",
    "from scipy.ndimage import filters\n",
    "import pandas\n",
    "\n",
    "import datetime\n",
    "\n",
    "matplotlib.rcParams['font.sans-serif'] = \"Arial\"\n",
    "matplotlib.rcParams['font.family'] = \"sans-serif\"\n",
    "matplotlib.rcParams.update({'font.size': 16})"
   ]
  },
  {
   "cell_type": "markdown",
   "metadata": {},
   "source": [
    "# Example trypsin-benzamidine"
   ]
  },
  {
   "cell_type": "markdown",
   "metadata": {},
   "source": [
    "* **read in mean waiting times at higher temperatures**"
   ]
  },
  {
   "cell_type": "markdown",
   "metadata": {},
   "source": [
    "* left_to_right (lr) indicates dissociation;  right_to_left (rl) indicates association"
   ]
  },
  {
   "cell_type": "code",
   "execution_count": 2,
   "metadata": {
    "collapsed": false
   },
   "outputs": [],
   "source": [
    "lr_380K = np.loadtxt(\"./Trypsin83middle_LE_10fsdt_10ms_10timesmass_1pmres_380K_left_to_right.dat\")\n",
    "lr_400K = np.loadtxt(\"./Trypsin83middle_LE_10fsdt_10ms_10timesmass_1pmres_400K_left_to_right.dat\")\n",
    "lr_420K = np.loadtxt(\"./Trypsin83middle_LE_10fsdt_10ms_10timesmass_1pmres_420K_left_to_right.dat\")\n",
    "lr_450K = np.loadtxt(\"./Trypsin83middle_LE_10fsdt_10ms_10timesmass_1pmres_450K_left_to_right.dat\")\n",
    "lr_500K = np.loadtxt(\"./Trypsin83middle_LE_10fsdt_10ms_10timesmass_1pmres_500K_left_to_right.dat\")\n",
    "lr_550K = np.loadtxt(\"./Trypsin83middle_LE_10fsdt_10ms_10timesmass_1pmres_550K_left_to_right.dat\")\n",
    "lr_600K = np.loadtxt(\"./Trypsin83middle_LE_10fsdt_10ms_10timesmass_1pmres_600K_left_to_right.dat\")\n",
    "lr_650K = np.loadtxt(\"./Trypsin83middle_LE_10fsdt_10ms_10timesmass_1pmres_650K_left_to_right.dat\")\n",
    "lr_700K = np.loadtxt(\"./Trypsin83middle_LE_10fsdt_10ms_10timesmass_1pmres_700K_left_to_right.dat\")\n",
    "lr_750K = np.loadtxt(\"./Trypsin83middle_LE_10fsdt_10ms_10timesmass_1pmres_750K_left_to_right.dat\")\n",
    "lr_800K = np.loadtxt(\"./Trypsin83middle_LE_10fsdt_10ms_10timesmass_1pmres_800K_left_to_right.dat\")\n",
    "lr_850K = np.loadtxt(\"./Trypsin83middle_LE_10fsdt_10ms_10timesmass_1pmres_850K_left_to_right.dat\")\n",
    "lr_900K = np.loadtxt(\"./Trypsin83middle_LE_10fsdt_10ms_10timesmass_1pmres_900K_left_to_right.dat\")\n",
    "\n",
    "rl_380K = np.loadtxt(\"./Trypsin83middle_LE_10fsdt_10ms_10timesmass_1pmres_380K_right_to_left.dat\")\n",
    "rl_400K = np.loadtxt(\"./Trypsin83middle_LE_10fsdt_10ms_10timesmass_1pmres_400K_right_to_left.dat\")\n",
    "rl_420K = np.loadtxt(\"./Trypsin83middle_LE_10fsdt_10ms_10timesmass_1pmres_420K_right_to_left.dat\")\n",
    "rl_450K = np.loadtxt(\"./Trypsin83middle_LE_10fsdt_10ms_10timesmass_1pmres_450K_right_to_left.dat\")\n",
    "rl_500K = np.loadtxt(\"./Trypsin83middle_LE_10fsdt_10ms_10timesmass_1pmres_500K_right_to_left.dat\")\n",
    "rl_550K = np.loadtxt(\"./Trypsin83middle_LE_10fsdt_10ms_10timesmass_1pmres_550K_right_to_left.dat\")\n",
    "rl_600K = np.loadtxt(\"./Trypsin83middle_LE_10fsdt_10ms_10timesmass_1pmres_600K_right_to_left.dat\")\n",
    "rl_650K = np.loadtxt(\"./Trypsin83middle_LE_10fsdt_10ms_10timesmass_1pmres_650K_right_to_left.dat\")\n",
    "rl_700K = np.loadtxt(\"./Trypsin83middle_LE_10fsdt_10ms_10timesmass_1pmres_700K_right_to_left.dat\")\n",
    "rl_750K = np.loadtxt(\"./Trypsin83middle_LE_10fsdt_10ms_10timesmass_1pmres_750K_right_to_left.dat\")\n",
    "rl_800K = np.loadtxt(\"./Trypsin83middle_LE_10fsdt_10ms_10timesmass_1pmres_800K_right_to_left.dat\")\n",
    "rl_850K = np.loadtxt(\"./Trypsin83middle_LE_10fsdt_10ms_10timesmass_1pmres_850K_right_to_left.dat\")\n",
    "rl_900K = np.loadtxt(\"./Trypsin83middle_LE_10fsdt_10ms_10timesmass_1pmres_900K_right_to_left.dat\")"
   ]
  },
  {
   "cell_type": "markdown",
   "metadata": {
    "collapsed": false
   },
   "source": [
    "* define standard error of the mean"
   ]
  },
  {
   "cell_type": "code",
   "execution_count": 3,
   "metadata": {
    "collapsed": true
   },
   "outputs": [],
   "source": [
    "def stderr(time):\n",
    "    out = np.std(time)/np.sqrt(len(time))\n",
    "    return out"
   ]
  },
  {
   "cell_type": "code",
   "execution_count": 4,
   "metadata": {
    "collapsed": false
   },
   "outputs": [],
   "source": [
    "Trypsin_lr_t = np.array([np.mean(lr_380K),np.mean(lr_400K),np.mean(lr_420K),np.mean(lr_450K),np.mean(lr_500K),\\\n",
    "                         np.mean(lr_550K),np.mean(lr_600K),np.mean(lr_650K),np.mean(lr_700K),\\\n",
    "                        np.mean(lr_750K),np.mean(lr_800K),np.mean(lr_850K),np.mean(lr_900K)])\n",
    "Trypsin_lr_S = np.array([stderr(lr_380K),stderr(lr_400K),stderr(lr_420K),stderr(lr_450K),\\\n",
    "                         stderr(lr_500K),stderr(lr_550K),stderr(lr_600K),stderr(lr_650K),stderr(lr_700K),\\\n",
    "                        stderr(lr_750K),stderr(lr_800K),stderr(lr_850K),stderr(lr_900K)])\n",
    "Trypsin_rl_t = np.array([np.mean(rl_380K),np.mean(rl_400K),np.mean(rl_420K),np.mean(rl_450K),np.mean(rl_500K),\\\n",
    "                         np.mean(rl_550K),np.mean(rl_600K),np.mean(rl_650K),np.mean(rl_700K),\\\n",
    "                        np.mean(rl_750K),np.mean(rl_800K),np.mean(rl_850K),np.mean(rl_900K)])\n",
    "Trypsin_rl_S = np.array([stderr(rl_380K),stderr(rl_400K),stderr(rl_420K),stderr(rl_450K),\\\n",
    "                         stderr(rl_500K),stderr(rl_550K),stderr(rl_600K),stderr(rl_650K),stderr(rl_700K),\\\n",
    "                        stderr(rl_750K),stderr(rl_800K),stderr(rl_850K),stderr(rl_900K)])\n",
    "Trypsin_lr_T = np.array([380.,400.,420.,450.,500.,550.,600.,650.,700.,750.,800.,850.,900.])\n",
    "Trypsin_rl_T = np.array([380.,400.,420.,450.,500.,550.,600.,650.,700.,750.,800.,850.,900.])\n",
    "\n",
    "k_B = 0.008314"
   ]
  },
  {
   "cell_type": "code",
   "execution_count": 5,
   "metadata": {
    "collapsed": false
   },
   "outputs": [],
   "source": [
    "Trypsin_lr_k = 1E9/Trypsin_lr_t\n",
    "Trypsin_lr_kS = 1E9/Trypsin_lr_k\n",
    "\n",
    "Trypsin_rl_k = 1E9/Trypsin_rl_t\n",
    "Trypsin_rl_kS = 1E9/Trypsin_rl_k"
   ]
  },
  {
   "cell_type": "markdown",
   "metadata": {},
   "source": [
    "* fit formula and porcedure:"
   ]
  },
  {
   "cell_type": "code",
   "execution_count": 6,
   "metadata": {
    "collapsed": true
   },
   "outputs": [],
   "source": [
    "def Tjump(T,dGtrans,t_0):\n",
    "    t = t_0 * np.exp( -(dGtrans/k_B) * ((T-T_0)/(T*T_0)) )\n",
    "    return t"
   ]
  },
  {
   "cell_type": "markdown",
   "metadata": {},
   "source": [
    "* **unbinding times:**"
   ]
  },
  {
   "cell_type": "code",
   "execution_count": 7,
   "metadata": {
    "collapsed": false
   },
   "outputs": [],
   "source": [
    "#T_0 = 420.\n",
    "T_0 = 290.15"
   ]
  },
  {
   "cell_type": "markdown",
   "metadata": {},
   "source": [
    "* fit procedure (remember to adjust start parameters and bounds according to your own problem!)"
   ]
  },
  {
   "cell_type": "code",
   "execution_count": 8,
   "metadata": {
    "collapsed": false
   },
   "outputs": [],
   "source": [
    "Tjump_lr_opt, Tjump_lr_cov = scy.optimize.curve_fit(Tjump, Trypsin_lr_T, Trypsin_lr_t, sigma=Trypsin_lr_S,\\\n",
    "                                                    p0=(45.,1), bounds=([30.,0.],[50.,2E9]))\n",
    "Tjump_lr_err = np.sqrt(np.diag(Tjump_lr_cov))"
   ]
  },
  {
   "cell_type": "code",
   "execution_count": 9,
   "metadata": {
    "collapsed": false
   },
   "outputs": [
    {
     "data": {
      "text/plain": [
       "array([  3.96022965e+01,   3.74202836e+06])"
      ]
     },
     "execution_count": 9,
     "metadata": {},
     "output_type": "execute_result"
    }
   ],
   "source": [
    "Tjump_lr_opt"
   ]
  },
  {
   "cell_type": "code",
   "execution_count": 10,
   "metadata": {
    "collapsed": false
   },
   "outputs": [
    {
     "data": {
      "text/plain": [
       "array([[  3.06430205e-02,   3.01652688e+04],\n",
       "       [  3.01652688e+04,   2.98796423e+10]])"
      ]
     },
     "execution_count": 10,
     "metadata": {},
     "output_type": "execute_result"
    }
   ],
   "source": [
    "Tjump_lr_cov"
   ]
  },
  {
   "cell_type": "markdown",
   "metadata": {},
   "source": [
    "* fit error:"
   ]
  },
  {
   "cell_type": "code",
   "execution_count": 11,
   "metadata": {
    "collapsed": false
   },
   "outputs": [
    {
     "data": {
      "text/plain": [
       "array([  1.75051480e-01,   1.72857289e+05])"
      ]
     },
     "execution_count": 11,
     "metadata": {},
     "output_type": "execute_result"
    }
   ],
   "source": [
    "Tjump_lr_err"
   ]
  },
  {
   "cell_type": "markdown",
   "metadata": {},
   "source": [
    "* $R^2$ value:"
   ]
  },
  {
   "cell_type": "code",
   "execution_count": 12,
   "metadata": {
    "collapsed": false
   },
   "outputs": [],
   "source": [
    "y = Trypsin_lr_t\n",
    "y_fit = Tjump(Trypsin_lr_T,Tjump_lr_opt[0],Tjump_lr_opt[1])\n",
    "\n",
    "ss_res = np.sum((y - y_fit) ** 2)\n",
    "ss_tot = np.sum((y - np.mean(y)) ** 2)\n",
    "r2 = 1 - (ss_res / ss_tot)"
   ]
  },
  {
   "cell_type": "code",
   "execution_count": 13,
   "metadata": {
    "collapsed": false
   },
   "outputs": [
    {
     "data": {
      "text/plain": [
       "0.8992794855540468"
      ]
     },
     "execution_count": 13,
     "metadata": {},
     "output_type": "execute_result"
    }
   ],
   "source": [
    "r2"
   ]
  },
  {
   "cell_type": "markdown",
   "metadata": {},
   "source": [
    "* fit quality:"
   ]
  },
  {
   "cell_type": "code",
   "execution_count": 14,
   "metadata": {
    "collapsed": true
   },
   "outputs": [],
   "source": [
    "x = np.linspace(280,900,781)"
   ]
  },
  {
   "cell_type": "code",
   "execution_count": 15,
   "metadata": {
    "collapsed": false
   },
   "outputs": [
    {
     "data": {
      "image/png": "[encoded data removed]",
      "text/plain": [
       "<matplotlib.figure.Figure at 0x11a4424a8>"
      ]
     },
     "metadata": {},
     "output_type": "display_data"
    }
   ],
   "source": [
    "#model 2\n",
    "plt.errorbar(Trypsin_lr_T,Trypsin_lr_t/1000,yerr=Trypsin_lr_S/1000,marker='o',\\\n",
    "             linestyle='',color='blue',capsize=5.,label='LE unbinding times')\n",
    "#plt.plot(600,t_0,'ro')\n",
    "plt.plot(x,Tjump(x,Tjump_lr_opt[0],Tjump_lr_opt[1])/1000,color='orange',label='fit')\n",
    "#plt.plot(x,Tjump(x,45.),label='expected')\n",
    "plt.xlabel('T / K')\n",
    "plt.ylabel('mean waiting time / $\\mu$s')\n",
    "plt.ylim(0,125.)\n",
    "plt.legend()\n",
    "#plt.savefig(\"./figs/Trypsin83middle_LE_10mus_res10fs_lrTjump.pdf\")\n",
    "plt.show()"
   ]
  },
  {
   "cell_type": "code",
   "execution_count": 16,
   "metadata": {
    "collapsed": false
   },
   "outputs": [
    {
     "data": {
      "image/png": "[encoded data removed]",
      "text/plain": [
       "<matplotlib.figure.Figure at 0x11acea2b0>"
      ]
     },
     "metadata": {},
     "output_type": "display_data"
    }
   ],
   "source": [
    "#model 2\n",
    "plt.plot(Trypsin_lr_T,1E9/Trypsin_lr_t,'bo',label='LE unbinding times')\n",
    "#plt.plot(600,1E9/t_0,'ro')\n",
    "#plt.plot(x,1E9/Tjump(x,45.,420.),label='expected')\n",
    "plt.plot(x,1E9/Tjump(x,Tjump_lr_opt[0],Tjump_lr_opt[1]),color='orange',label='fit')\n",
    "plt.xlabel('T / K')\n",
    "plt.ylabel('$k_{off}$ / $s^{-1}$')\n",
    "plt.legend()\n",
    "#plt.savefig(\"./figs/Trypsin83middle_LE_10mus_res10fs_lrTjump_const.pdf\")\n",
    "plt.show()"
   ]
  },
  {
   "cell_type": "markdown",
   "metadata": {},
   "source": [
    "* **dissociation rate estimate:**"
   ]
  },
  {
   "cell_type": "code",
   "execution_count": 17,
   "metadata": {
    "collapsed": false
   },
   "outputs": [],
   "source": [
    "lr_rate = 1E9/Tjump(290.15,Tjump_lr_opt[0],Tjump_lr_opt[1])"
   ]
  },
  {
   "cell_type": "code",
   "execution_count": 18,
   "metadata": {
    "collapsed": false
   },
   "outputs": [
    {
     "data": {
      "text/plain": [
       "267.23474661949734"
      ]
     },
     "execution_count": 18,
     "metadata": {},
     "output_type": "execute_result"
    }
   ],
   "source": [
    "lr_rate"
   ]
  },
  {
   "cell_type": "markdown",
   "metadata": {},
   "source": [
    "error for fit-based calculation: Z = 1/A => err(Z) = Z*err(A)/A"
   ]
  },
  {
   "cell_type": "code",
   "execution_count": 19,
   "metadata": {
    "collapsed": false
   },
   "outputs": [],
   "source": [
    "lr_rate_err = (1E9/Tjump(300,Tjump_lr_opt[0],Tjump_lr_opt[1])) * Tjump(300.,Tjump_lr_err[0],Tjump_lr_err[1]) / Tjump(300.,Tjump_lr_opt[0],Tjump_lr_opt[1]) "
   ]
  },
  {
   "cell_type": "code",
   "execution_count": 20,
   "metadata": {
    "collapsed": false
   },
   "outputs": [
    {
     "data": {
      "text/plain": [
       "36.192895956361426"
      ]
     },
     "execution_count": 20,
     "metadata": {},
     "output_type": "execute_result"
    }
   ],
   "source": [
    "lr_rate_err"
   ]
  },
  {
   "cell_type": "markdown",
   "metadata": {},
   "source": [
    "exp. value: 6 x 10$^2$ s$^{-1}$"
   ]
  },
  {
   "cell_type": "code",
   "execution_count": 21,
   "metadata": {
    "collapsed": true
   },
   "outputs": [],
   "source": [
    "lr_exp = 1/(6E2*1E-6)"
   ]
  },
  {
   "cell_type": "code",
   "execution_count": null,
   "metadata": {
    "collapsed": true
   },
   "outputs": [],
   "source": []
  },
  {
   "cell_type": "markdown",
   "metadata": {},
   "source": [
    "* **binding times:**"
   ]
  },
  {
   "cell_type": "code",
   "execution_count": 22,
   "metadata": {
    "collapsed": false
   },
   "outputs": [],
   "source": [
    "#T_0 = 420.\n",
    "T_0 = 290.15"
   ]
  },
  {
   "cell_type": "code",
   "execution_count": 23,
   "metadata": {
    "collapsed": false
   },
   "outputs": [],
   "source": [
    "Tjump_rl_opt, Tjump_rl_cov = scy.optimize.curve_fit(Tjump, Trypsin_rl_T, Trypsin_rl_t, sigma=Trypsin_rl_S,\\\n",
    "                                                    p0=(20.,0.), bounds=([10.,0.],[30.,2E6]))\n",
    "Tjump_rl_err = np.sqrt(np.diag(Tjump_rl_cov))"
   ]
  },
  {
   "cell_type": "code",
   "execution_count": 24,
   "metadata": {
    "collapsed": false
   },
   "outputs": [
    {
     "data": {
      "text/plain": [
       "array([   16.24227773,  2325.87156422])"
      ]
     },
     "execution_count": 24,
     "metadata": {},
     "output_type": "execute_result"
    }
   ],
   "source": [
    "Tjump_rl_opt"
   ]
  },
  {
   "cell_type": "code",
   "execution_count": 25,
   "metadata": {
    "collapsed": false
   },
   "outputs": [
    {
     "data": {
      "text/plain": [
       "array([[  1.34489564e-02,   8.22358627e+00],\n",
       "       [  8.22358627e+00,   5.06272143e+03]])"
      ]
     },
     "execution_count": 25,
     "metadata": {},
     "output_type": "execute_result"
    }
   ],
   "source": [
    "Tjump_rl_cov"
   ]
  },
  {
   "cell_type": "code",
   "execution_count": 26,
   "metadata": {
    "collapsed": false
   },
   "outputs": [
    {
     "data": {
      "text/plain": [
       "array([  0.11596964,  71.15280337])"
      ]
     },
     "execution_count": 26,
     "metadata": {},
     "output_type": "execute_result"
    }
   ],
   "source": [
    "Tjump_rl_err"
   ]
  },
  {
   "cell_type": "code",
   "execution_count": 27,
   "metadata": {
    "collapsed": true
   },
   "outputs": [],
   "source": [
    "y = Trypsin_rl_t\n",
    "y_fit = Tjump(Trypsin_rl_T,Tjump_rl_opt[0],Tjump_rl_opt[1])\n",
    "\n",
    "ss_res = np.sum((y - y_fit) ** 2)\n",
    "ss_tot = np.sum((y - np.mean(y)) ** 2)\n",
    "r2 = 1 - (ss_res / ss_tot)"
   ]
  },
  {
   "cell_type": "code",
   "execution_count": 28,
   "metadata": {
    "collapsed": false
   },
   "outputs": [
    {
     "data": {
      "text/plain": [
       "0.98611986217019176"
      ]
     },
     "execution_count": 28,
     "metadata": {},
     "output_type": "execute_result"
    }
   ],
   "source": [
    "r2"
   ]
  },
  {
   "cell_type": "code",
   "execution_count": 29,
   "metadata": {
    "collapsed": true
   },
   "outputs": [],
   "source": [
    "x = np.linspace(350,900,751)"
   ]
  },
  {
   "cell_type": "code",
   "execution_count": 30,
   "metadata": {
    "collapsed": false
   },
   "outputs": [
    {
     "data": {
      "image/png": "[encoded data removed]",
      "text/plain": [
       "<matplotlib.figure.Figure at 0x11acfb940>"
      ]
     },
     "metadata": {},
     "output_type": "display_data"
    }
   ],
   "source": [
    "#model 2\n",
    "#plt.plot(600,t_0,'ro')\n",
    "plt.errorbar(Trypsin_rl_T,Trypsin_rl_t/1000,yerr=Trypsin_rl_S/1000,marker='o',color='blue',\\\n",
    "             capsize=5.,linestyle='',label='LE binding times')\n",
    "plt.plot(x,Tjump(x,Tjump_rl_opt[0],Tjump_rl_opt[1])/1000,label='fit',color='orange')\n",
    "#plt.ylim(0,3.)\n",
    "plt.xlabel('T / K')\n",
    "plt.ylabel('mean waiting time / $\\mu$s')\n",
    "plt.legend()\n",
    "#plt.savefig(\"./figs/Trypsin83middle_LE_10mus_res10fs_rlTjump.pdf\")\n",
    "plt.show()"
   ]
  },
  {
   "cell_type": "code",
   "execution_count": 31,
   "metadata": {
    "collapsed": true
   },
   "outputs": [],
   "source": [
    "x = np.linspace(280,900,781)"
   ]
  },
  {
   "cell_type": "code",
   "execution_count": 32,
   "metadata": {
    "collapsed": false
   },
   "outputs": [
    {
     "data": {
      "text/plain": [
       "429946.35446858394"
      ]
     },
     "execution_count": 32,
     "metadata": {},
     "output_type": "execute_result"
    }
   ],
   "source": [
    "1E9/Tjump(290.15,Tjump_rl_opt[0],Tjump_rl_opt[1])"
   ]
  },
  {
   "cell_type": "markdown",
   "metadata": {},
   "source": [
    "calculate: spheric box #box of dim. 7.5276 x 7.5276 x 5.3221 nm^3:"
   ]
  },
  {
   "cell_type": "code",
   "execution_count": 33,
   "metadata": {
    "collapsed": true
   },
   "outputs": [],
   "source": [
    "l = (4/3) * np.pi * (2**3) * (10**(-24)) #7.5276 * 7.5276 * 5.3221 * (10**(-24)) # volume in l = dm^3"
   ]
  },
  {
   "cell_type": "code",
   "execution_count": 34,
   "metadata": {
    "collapsed": true
   },
   "outputs": [],
   "source": [
    "N_A = 6.022 * (10**23) # mol^-1"
   ]
  },
  {
   "cell_type": "code",
   "execution_count": 35,
   "metadata": {
    "collapsed": false
   },
   "outputs": [],
   "source": [
    "M = 1/(l*N_A) # mol/l"
   ]
  },
  {
   "cell_type": "code",
   "execution_count": 36,
   "metadata": {
    "collapsed": false
   },
   "outputs": [
    {
     "data": {
      "text/plain": [
       "0.049554220906227804"
      ]
     },
     "execution_count": 36,
     "metadata": {},
     "output_type": "execute_result"
    }
   ],
   "source": [
    "M"
   ]
  },
  {
   "cell_type": "markdown",
   "metadata": {},
   "source": [
    "* **binding rate estimate:**"
   ]
  },
  {
   "cell_type": "code",
   "execution_count": 37,
   "metadata": {
    "collapsed": false
   },
   "outputs": [],
   "source": [
    "rl_rate = 1E9/(Tjump(290.15,Tjump_rl_opt[0],Tjump_rl_opt[1]) * M)"
   ]
  },
  {
   "cell_type": "code",
   "execution_count": 38,
   "metadata": {
    "collapsed": false
   },
   "outputs": [
    {
     "data": {
      "text/plain": [
       "8676281.1846477799"
      ]
     },
     "execution_count": 38,
     "metadata": {},
     "output_type": "execute_result"
    }
   ],
   "source": [
    "rl_rate"
   ]
  },
  {
   "cell_type": "markdown",
   "metadata": {},
   "source": [
    "error for fit-based calculation: Z = 1/A => err(Z) = Z*err(A)/A"
   ]
  },
  {
   "cell_type": "code",
   "execution_count": 39,
   "metadata": {
    "collapsed": false
   },
   "outputs": [],
   "source": [
    "rl_rate_err = (1E9/(Tjump(300,Tjump_rl_opt[0],Tjump_rl_opt[1])* M)) * Tjump(300.,Tjump_rl_err[0],Tjump_rl_err[1]) / Tjump(300.,Tjump_rl_opt[0],Tjump_rl_opt[1]) "
   ]
  },
  {
   "cell_type": "code",
   "execution_count": 40,
   "metadata": {
    "collapsed": false
   },
   "outputs": [
    {
     "data": {
      "text/plain": [
       "412356.78153964772"
      ]
     },
     "execution_count": 40,
     "metadata": {},
     "output_type": "execute_result"
    }
   ],
   "source": [
    "rl_rate_err"
   ]
  },
  {
   "cell_type": "code",
   "execution_count": 41,
   "metadata": {
    "collapsed": false
   },
   "outputs": [],
   "source": [
    "rl_exp = 1/(2.9E7*M*1E-6)"
   ]
  },
  {
   "cell_type": "markdown",
   "metadata": {},
   "source": [
    "exp. value: 2.9 x 10$^{7}$ M$^{^-1}$ s$^{^-1}$"
   ]
  },
  {
   "cell_type": "code",
   "execution_count": 42,
   "metadata": {
    "collapsed": false,
    "scrolled": true
   },
   "outputs": [
    {
     "data": {
      "image/png": "[encoded data removed]",
      "text/plain": [
       "<matplotlib.figure.Figure at 0x11a740b70>"
      ]
     },
     "metadata": {},
     "output_type": "display_data"
    }
   ],
   "source": [
    "plt.plot(Trypsin_rl_T,1E9/(Trypsin_rl_t * M),'bo',label='LE binding times')\n",
    "#plt.plot(600,1E9/t_0,'ro')\n",
    "#plt.plot(x,1E9/(Tjump(x,20.,600.)*M),label='expected')\n",
    "plt.plot(x,1E9/(Tjump(x,Tjump_rl_opt[0],Tjump_rl_opt[1])*M),label='fit',color='orange')\n",
    "plt.xlabel('temperature / K')\n",
    "plt.ylabel('$k_{on}$ / $s^{-1}$')\n",
    "plt.legend()\n",
    "plt.savefig(\"./figs/Trypsin83middle_LE_10mus_res10fs_rlTjump_const.pdf\")\n",
    "plt.show()"
   ]
  },
  {
   "cell_type": "markdown",
   "metadata": {},
   "source": [
    "* **overall rate estimate plot**"
   ]
  },
  {
   "cell_type": "code",
   "execution_count": 43,
   "metadata": {
    "collapsed": false,
    "scrolled": true
   },
   "outputs": [
    {
     "data": {
      "image/png": "[encoded data removed]",
      "text/plain": [
       "<matplotlib.figure.Figure at 0x11e948198>"
      ]
     },
     "metadata": {},
     "output_type": "display_data"
    }
   ],
   "source": [
    "plt.errorbar(1/Trypsin_rl_T,Trypsin_rl_t/1000,yerr=Trypsin_rl_S/1000,marker='o',\\\n",
    "             linestyle='',color='red',capsize=5.,label='LE unbinding times')\n",
    "plt.plot(1/290.15,lr_exp,'kx',mew=2,ms=10)\n",
    "plt.plot(1/x,Tjump(x,Tjump_rl_opt[0],Tjump_rl_opt[1])/1000,'r--',label='fit')\n",
    "plt.errorbar(1/Trypsin_lr_T,Trypsin_lr_t/1000,yerr=Trypsin_lr_S/1000,marker='o',\\\n",
    "             linestyle='',color='blue',capsize=5.,label='LE unbinding times')\n",
    "#plt.plot(600,t_0,'ro')\n",
    "plt.plot(1/x,Tjump(x,Tjump_lr_opt[0],Tjump_lr_opt[1])/1000,'b--',label='fit')\n",
    "plt.plot(1/290.15,rl_exp,'x',mew=2,ms=10,color='grey')\n",
    "#plt.plot(x,Tjump(x,45.),label='expected')\n",
    "plt.xlabel('1/T (K$^{-1}$)')\n",
    "plt.yscale('log')\n",
    "plt.xlim(0.0011,0.00355)\n",
    "plt.ylim(1E-2,2E4)\n",
    "plt.ylabel(r'$\\tau$ ($\\mu$s)')\n",
    "#plt.savefig(\"./figs/Trypsin83middle_LE_10mus_res10fs_10timesmass_Tjump_logscale.pdf\")\n",
    "plt.show()"
   ]
  },
  {
   "cell_type": "markdown",
   "metadata": {},
   "source": [
    "* **$K_D$ calculation**"
   ]
  },
  {
   "cell_type": "code",
   "execution_count": 44,
   "metadata": {
    "collapsed": true
   },
   "outputs": [],
   "source": [
    "K_D = lr_rate / rl_rate"
   ]
  },
  {
   "cell_type": "code",
   "execution_count": 45,
   "metadata": {
    "collapsed": false
   },
   "outputs": [
    {
     "data": {
      "text/plain": [
       "3.0800609262451643e-05"
      ]
     },
     "execution_count": 45,
     "metadata": {},
     "output_type": "execute_result"
    }
   ],
   "source": [
    "K_D"
   ]
  },
  {
   "cell_type": "code",
   "execution_count": 46,
   "metadata": {
    "collapsed": true
   },
   "outputs": [],
   "source": [
    "K_D_err = ((lr_rate_err / lr_rate) + (rl_rate_err / rl_rate)) * K_D"
   ]
  },
  {
   "cell_type": "code",
   "execution_count": 47,
   "metadata": {
    "collapsed": false
   },
   "outputs": [
    {
     "data": {
      "text/plain": [
       "5.6353332747907157e-06"
      ]
     },
     "execution_count": 47,
     "metadata": {},
     "output_type": "execute_result"
    }
   ],
   "source": [
    "K_D_err"
   ]
  },
  {
   "cell_type": "code",
   "execution_count": null,
   "metadata": {
    "collapsed": true
   },
   "outputs": [],
   "source": []
  },
  {
   "cell_type": "code",
   "execution_count": null,
   "metadata": {
    "collapsed": true
   },
   "outputs": [],
   "source": []
  },
  {
   "cell_type": "markdown",
   "metadata": {},
   "source": [
    "# Appendix"
   ]
  },
  {
   "cell_type": "code",
   "execution_count": null,
   "metadata": {
    "collapsed": true
   },
   "outputs": [],
   "source": []
  }
 ],
 "metadata": {
  "kernelspec": {
   "display_name": "Python 3",
   "language": "python",
   "name": "python3"
  },
  "language_info": {
   "codemirror_mode": {
    "name": "ipython",
    "version": 3
   },
   "file_extension": ".py",
   "mimetype": "text/x-python",
   "name": "python",
   "nbconvert_exporter": "python",
   "pygments_lexer": "ipython3",
   "version": "3.4.5"
  }
 },
 "nbformat": 4,
 "nbformat_minor": 2
}
