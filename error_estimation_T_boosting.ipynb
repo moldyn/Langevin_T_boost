{
 "cells": [
  {
   "cell_type": "markdown",
   "metadata": {},
   "source": [
    "# Error estimate for T-boosted Langevin simulations"
   ]
  },
  {
   "cell_type": "markdown",
   "metadata": {},
   "source": [
    "* Import external libraries:"
   ]
  },
  {
   "cell_type": "code",
   "execution_count": 1,
   "metadata": {},
   "outputs": [],
   "source": [
    "import numpy as np"
   ]
  },
  {
   "cell_type": "markdown",
   "metadata": {},
   "source": [
    "**Example trypsin**"
   ]
  },
  {
   "cell_type": "code",
   "execution_count": 2,
   "metadata": {},
   "outputs": [],
   "source": [
    "# number of observed transitions\n",
    "no_e = np.array([92, 148, 306, 712, 2153, 5141, 10534, 18818, 30163, 44864,\n",
    "                 62538, 82528, 105127])\n",
    "\n",
    "# used temperatures in [K]\n",
    "T = np.array([380, 400, 420, 450, 500, 550, 600, 650, 700, 750, 800, 850, 900])\n",
    "TSqr = T**2\n",
    "\n",
    "# Calculate ...\n",
    "delta = np.sum(no_e) * np.sum(no_e/TSqr) - np.sum(no_e/T)**2"
   ]
  },
  {
   "cell_type": "markdown",
   "metadata": {},
   "source": [
    "* error estimate"
   ]
  },
  {
   "cell_type": "code",
   "execution_count": 3,
   "metadata": {},
   "outputs": [
    {
     "name": "stdout",
     "output_type": "stream",
     "text": [
      "error: 3.34%\n",
      "error slope: 3.12%\n"
     ]
    }
   ],
   "source": [
    "# Use error propagation to derive error at 300 K.\n",
    "T_e = 300  # [K]\n",
    "TSqr_e = T_e**2\n",
    "\n",
    "error = np.sqrt((np.sum(no_e)/TSqr_e + np.sum(no_e/TSqr)) / delta)\n",
    "error_slope = np.sqrt((np.sum(no_e)/TSqr_e) / delta)\n",
    "\n",
    "# Complete error in %\n",
    "print('error: {:.2%}'.format(error))\n",
    "\n",
    "# Error only from slope in %, we see that it dominates the error\n",
    "print('error slope: {:.2%}'.format(error_slope))"
   ]
  },
  {
   "cell_type": "markdown",
   "metadata": {},
   "source": [
    "This means that we observe an error of 3.3 % for Trypsin"
   ]
  },
  {
   "cell_type": "markdown",
   "metadata": {},
   "source": [
    "**Example Hsp90**"
   ]
  },
  {
   "cell_type": "code",
   "execution_count": 4,
   "metadata": {
    "scrolled": true
   },
   "outputs": [],
   "source": [
    "# number of observed transitions\n",
    "no_e = np.array([77, 204, 422, 800, 1376, 2147, 3265, 4796, 6861, 9229,\n",
    "                 12233, 15753, 19832, 24496])\n",
    "\n",
    "# used temperatures in [K]\n",
    "T = np.arange(700, 1400, 50)\n",
    "TSqr = T**2\n",
    "\n",
    "# Calculate ...\n",
    "delta = np.sum(no_e) * np.sum(no_e/TSqr) - np.sum(no_e/T)**2"
   ]
  },
  {
   "cell_type": "markdown",
   "metadata": {},
   "source": [
    "* error estimate"
   ]
  },
  {
   "cell_type": "code",
   "execution_count": 5,
   "metadata": {},
   "outputs": [
    {
     "name": "stdout",
     "output_type": "stream",
     "text": [
      "error: 11.03%\n",
      "error slope: 10.70%\n"
     ]
    }
   ],
   "source": [
    "# Use error propagation to derive error at 300 K.\n",
    "T_e = 300  # [K]\n",
    "TSqr_e = T_e**2\n",
    "\n",
    "error = np.sqrt((np.sum(no_e)/TSqr_e + np.sum(no_e/TSqr)) / delta)\n",
    "error_slope = np.sqrt((np.sum(no_e)/TSqr_e) / delta)\n",
    "\n",
    "# Complete error in %\n",
    "print('error: {:.2%}'.format(error))\n",
    "\n",
    "# Error only from slope in %, we see that it dominates the error\n",
    "print('error slope: {:.2%}'.format(error_slope))"
   ]
  },
  {
   "cell_type": "markdown",
   "metadata": {},
   "source": [
    "This means that we have 11% uncertaintiy for Hsp90."
   ]
  }
 ],
 "metadata": {
  "kernelspec": {
   "display_name": "Python 3",
   "language": "python",
   "name": "python3"
  },
  "language_info": {
   "codemirror_mode": {
    "name": "ipython",
    "version": 3
   },
   "file_extension": ".py",
   "mimetype": "text/x-python",
   "name": "python",
   "nbconvert_exporter": "python",
   "pygments_lexer": "ipython3",
   "version": "3.7.3"
  }
 },
 "nbformat": 4,
 "nbformat_minor": 2
}
